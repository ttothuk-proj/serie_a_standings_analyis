{
 "cells": [
  {
   "cell_type": "code",
   "execution_count": 1,
   "metadata": {},
   "outputs": [],
   "source": [
    "from urllib.request import urlopen as uReq\n",
    "from bs4 import BeautifulSoup as soup"
   ]
  },
  {
   "cell_type": "code",
   "execution_count": 2,
   "metadata": {},
   "outputs": [
    {
     "data": {
      "text/plain": [
       "52"
      ]
     },
     "execution_count": 2,
     "metadata": {},
     "output_type": "execute_result"
    }
   ],
   "source": [
    "filename = \"season_finish.csv\"\n",
    "filename2 = \"season_start.csv\"\n",
    "f = open(filename, \"w\")\n",
    "f2 = open(filename2, \"w\")\n",
    "headers = \"position, team_name, matches_played, points, season\\n\"\n",
    "headers2 = \"position, team_name, matches_played, points, season\\n\"\n",
    "f.write(headers)\n",
    "f2.write(headers)"
   ]
  },
  {
   "cell_type": "code",
   "execution_count": 74,
   "metadata": {},
   "outputs": [],
   "source": [
    "for year in range (2005, 2021):\n",
    "    day = 10\n",
    "    my_url = \"https://www.worldfootball.net/schedule/ita-serie-a-{}-{}-spieltag/{}/\".format(year, year+1,day)\n",
    "    uClient = uReq(my_url)\n",
    "    page_html = uClient.read()\n",
    "    uClient.close()\n",
    "    page_soup = soup(page_html, \"html.parser\")\n",
    "    container = page_soup.findAll(\"div\", {\"class\": \"box\"})[1].div.table\n",
    "\n",
    "    for i in range(2, 22):\n",
    "        # Position, 2-21 in \"tr:nth-of-type(2)\"\n",
    "        position = container.select(\"tr:nth-of-type({})\".format(i))[0].td.text\n",
    "        # Team name, 2-21 in \"tr:nth-of-type(2)\"\n",
    "        team = container.select(\"tr:nth-of-type({})\".format(i))[0].a[\"title\"]\n",
    "        # Matches played, 2-21 in \"tr:nth-of-type(2)\"\n",
    "        played = container.select(\"tr:nth-of-type({})\".format(i))[0].select(\"td:nth-of-type(4)\")[0].text\n",
    "        # Points earned 2-21, in \"tr:nth-of-type(2)\"\n",
    "        points = container.select(\"tr:nth-of-type({})\".format(i))[0].select(\"td:nth-of-type(10)\")[0].text\n",
    "\n",
    "        season = str(year) + \"-\" + str(year+1)\n",
    "        # print(position, team, played, points,season)\n",
    "        f2.write(position + \",\" + team + \",\" + played + \",\" + points + \",\" + season + \"\\n\")\n",
    "        "
   ]
  },
  {
   "cell_type": "code",
   "execution_count": 75,
   "metadata": {},
   "outputs": [],
   "source": [
    "for year in range (2005, 2021):\n",
    "    day = 38\n",
    "    my_url = \"https://www.worldfootball.net/schedule/ita-serie-a-{}-{}-spieltag/{}/\".format(year, year+1,day)\n",
    "    uClient = uReq(my_url)\n",
    "    page_html = uClient.read()\n",
    "    uClient.close()\n",
    "    page_soup = soup(page_html, \"html.parser\")\n",
    "    container = page_soup.findAll(\"div\", {\"class\": \"box\"})[1].div.table\n",
    "\n",
    "    for i in range(2, 22):\n",
    "        # Position, 2-21 in \"tr:nth-of-type(2)\"\n",
    "        position = container.select(\"tr:nth-of-type({})\".format(i))[0].td.text\n",
    "        # Team name, 2-21 in \"tr:nth-of-type(2)\"\n",
    "        team = container.select(\"tr:nth-of-type({})\".format(i))[0].a[\"title\"]\n",
    "        # Matches played, 2-21 in \"tr:nth-of-type(2)\"\n",
    "        played = container.select(\"tr:nth-of-type({})\".format(i))[0].select(\"td:nth-of-type(4)\")[0].text\n",
    "        # Points earned 2-21, in \"tr:nth-of-type(2)\"\n",
    "        points = container.select(\"tr:nth-of-type({})\".format(i))[0].select(\"td:nth-of-type(10)\")[0].text\n",
    "\n",
    "        season = str(year) + \"-\" + str(year+1)\n",
    "        # print(position, team, played, points,season)\n",
    "        f.write(position + \",\" + team + \",\" + played + \",\" + points + \",\" + season + \"\\n\")"
   ]
  },
  {
   "cell_type": "code",
   "execution_count": null,
   "metadata": {},
   "outputs": [],
   "source": [
    "for year in range (2019, 2021):\n",
    "    day = 38\n",
    "    my_url = \"https://www.worldfootball.net/schedule/ita-serie-a-{}-{}-spieltag/{}/\".format(year, year+1,day)\n",
    "    uClient = uReq(my_url)\n",
    "    page_html = uClient.read()\n",
    "    uClient.close()\n",
    "    page_soup = soup(page_html, \"html.parser\")\n",
    "    container = page_soup.findAll(\"div\", {\"class\": \"box\"})[1].div.table\n",
    "\n",
    "    for i in range(2, 22):\n",
    "        # Position, 2-21 in \"tr:nth-of-type(2)\"\n",
    "        position = container.select(\"tr:nth-of-type({})\".format(i))[0].td.text\n",
    "        # Team name, 2-21 in \"tr:nth-of-type(2)\"\n",
    "        team = container.select(\"tr:nth-of-type({})\".format(i))[0].a[\"title\"]\n",
    "        # Matches played, 2-21 in \"tr:nth-of-type(2)\"\n",
    "        played = container.select(\"tr:nth-of-type({})\".format(i))[0].select(\"td:nth-of-type(4)\")[0].text\n",
    "        # Points earned 2-21, in \"tr:nth-of-type(2)\"\n",
    "        points = container.select(\"tr:nth-of-type({})\".format(i))[0].select(\"td:nth-of-type(10)\")[0].text\n",
    "\n",
    "        season = str(year) + \"-\" + str(year+1)\n",
    "        print(position, team, played, points,season)\n",
    "        # f.write(position + \",\" + team + \",\" + played + \",\" + points + \",\" + season + \"\\n\")"
   ]
  },
  {
   "cell_type": "code",
   "execution_count": 76,
   "metadata": {},
   "outputs": [],
   "source": [
    "f.close()"
   ]
  },
  {
   "cell_type": "code",
   "execution_count": 77,
   "metadata": {},
   "outputs": [],
   "source": [
    "f2.close()"
   ]
  },
  {
   "cell_type": "code",
   "execution_count": null,
   "metadata": {},
   "outputs": [],
   "source": []
  },
  {
   "cell_type": "code",
   "execution_count": null,
   "metadata": {},
   "outputs": [],
   "source": []
  }
 ],
 "metadata": {
  "kernelspec": {
   "display_name": "Python 3",
   "language": "python",
   "name": "python3"
  },
  "language_info": {
   "codemirror_mode": {
    "name": "ipython",
    "version": 3
   },
   "file_extension": ".py",
   "mimetype": "text/x-python",
   "name": "python",
   "nbconvert_exporter": "python",
   "pygments_lexer": "ipython3",
   "version": "3.8.3"
  }
 },
 "nbformat": 4,
 "nbformat_minor": 4
}
